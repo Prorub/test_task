{
 "cells": [
  {
   "cell_type": "markdown",
   "id": "ca1d26dc",
   "metadata": {},
   "source": [
    "Отчет по тестовому заданию я решил написать в формате ноутбука с комментариями и рассуждениями в процессе работы."
   ]
  },
  {
   "cell_type": "markdown",
   "id": "af94fe37",
   "metadata": {},
   "source": [
    "Задача состоит в том, чтобы написать веб-сервис на основе обученной ML модели."
   ]
  },
  {
   "cell_type": "markdown",
   "id": "8f8a8401",
   "metadata": {},
   "source": [
    "В качестве данные для работы есть: упакованная мадель micromodel.cbm, скрипт для получения предсказаний \n",
    "этой модели pick_regno.py и небольшой набор данных размером в 100 строк на которых можно проверить роботоспособность модели."
   ]
  },
  {
   "cell_type": "markdown",
   "id": "60a8cdfc",
   "metadata": {},
   "source": [
    "Для начала продумаем архитектуру микросервиса, для этого нужно понимать какую задачу он решает.\n",
    "Очевидно что это классификатор на основе кэтбуста, информации о том какие классы он предсказывает у меня нет, но по таблице с фичами можно увидеть следующее:"
   ]
  },
  {
   "cell_type": "code",
   "execution_count": 12,
   "id": "5c592262",
   "metadata": {},
   "outputs": [
    {
     "data": {
      "text/html": [
       "<div>\n",
       "<style scoped>\n",
       "    .dataframe tbody tr th:only-of-type {\n",
       "        vertical-align: middle;\n",
       "    }\n",
       "\n",
       "    .dataframe tbody tr th {\n",
       "        vertical-align: top;\n",
       "    }\n",
       "\n",
       "    .dataframe thead th {\n",
       "        text-align: right;\n",
       "    }\n",
       "</style>\n",
       "<table border=\"1\" class=\"dataframe\">\n",
       "  <thead>\n",
       "    <tr style=\"text-align: right;\">\n",
       "      <th></th>\n",
       "      <th>regno_recognize</th>\n",
       "      <th>afts_regno_ai</th>\n",
       "      <th>recognition_accuracy</th>\n",
       "      <th>afts_regno_ai_score</th>\n",
       "      <th>afts_regno_ai_char_scores</th>\n",
       "      <th>afts_regno_ai_length_scores</th>\n",
       "      <th>camera_type</th>\n",
       "      <th>camera_class</th>\n",
       "      <th>time_check</th>\n",
       "      <th>direction</th>\n",
       "    </tr>\n",
       "  </thead>\n",
       "  <tbody>\n",
       "    <tr>\n",
       "      <th>0</th>\n",
       "      <td>А939НО196</td>\n",
       "      <td>А939НО190</td>\n",
       "      <td>6.400000</td>\n",
       "      <td>0.868917</td>\n",
       "      <td>[0.9998925924301147, 0.9999872446060181, 0.999...</td>\n",
       "      <td>[3.2404470773350624e-10, 3.236617363011618e-10...</td>\n",
       "      <td>Стационарная</td>\n",
       "      <td>Астра-Трафик</td>\n",
       "      <td>2021-08-01 09:02:59</td>\n",
       "      <td>0</td>\n",
       "    </tr>\n",
       "    <tr>\n",
       "      <th>1</th>\n",
       "      <td>В154АУ797</td>\n",
       "      <td>В154АУ777</td>\n",
       "      <td>8.099999</td>\n",
       "      <td>0.651144</td>\n",
       "      <td>[0.9999932050704956, 0.9999973773956299, 0.999...</td>\n",
       "      <td>[3.430950662464127e-11, 3.460254999199108e-11,...</td>\n",
       "      <td>Стационарная</td>\n",
       "      <td>Астра-Трафик</td>\n",
       "      <td>2021-08-01 11:24:40</td>\n",
       "      <td>1</td>\n",
       "    </tr>\n",
       "    <tr>\n",
       "      <th>2</th>\n",
       "      <td>О673ТВ198</td>\n",
       "      <td>О673ТВ190</td>\n",
       "      <td>99.000000</td>\n",
       "      <td>0.605001</td>\n",
       "      <td>[0.9999418258666992, 0.9999479055404663, 0.999...</td>\n",
       "      <td>[1.1617498074656396e-09, 1.1486793738413326e-0...</td>\n",
       "      <td>Стационарная</td>\n",
       "      <td>Стрелка-Плюс</td>\n",
       "      <td>2021-08-01 11:50:28</td>\n",
       "      <td>1</td>\n",
       "    </tr>\n",
       "    <tr>\n",
       "      <th>3</th>\n",
       "      <td>А847ЕК198</td>\n",
       "      <td>А847ЕК190</td>\n",
       "      <td>14.250000</td>\n",
       "      <td>0.670378</td>\n",
       "      <td>[0.9999666213989258, 0.9999755620956421, 0.999...</td>\n",
       "      <td>[3.664501813105403e-09, 3.674545556719977e-09,...</td>\n",
       "      <td>Стационарная</td>\n",
       "      <td>Астра-Трафик</td>\n",
       "      <td>2021-08-01 12:53:14</td>\n",
       "      <td>0</td>\n",
       "    </tr>\n",
       "    <tr>\n",
       "      <th>4</th>\n",
       "      <td>Н225АР797</td>\n",
       "      <td>Н225АР777</td>\n",
       "      <td>99.000000</td>\n",
       "      <td>0.667756</td>\n",
       "      <td>[0.9999465942382812, 0.9999498128890991, 0.999...</td>\n",
       "      <td>[5.063955921258412e-09, 5.053997664816734e-09,...</td>\n",
       "      <td>Стационарная</td>\n",
       "      <td>Стрелка-Плюс</td>\n",
       "      <td>2021-08-01 13:48:23</td>\n",
       "      <td>0</td>\n",
       "    </tr>\n",
       "  </tbody>\n",
       "</table>\n",
       "</div>"
      ],
      "text/plain": [
       "  regno_recognize afts_regno_ai  recognition_accuracy  afts_regno_ai_score  \\\n",
       "0       А939НО196     А939НО190              6.400000             0.868917   \n",
       "1       В154АУ797     В154АУ777              8.099999             0.651144   \n",
       "2       О673ТВ198     О673ТВ190             99.000000             0.605001   \n",
       "3       А847ЕК198     А847ЕК190             14.250000             0.670378   \n",
       "4       Н225АР797     Н225АР777             99.000000             0.667756   \n",
       "\n",
       "                           afts_regno_ai_char_scores  \\\n",
       "0  [0.9998925924301147, 0.9999872446060181, 0.999...   \n",
       "1  [0.9999932050704956, 0.9999973773956299, 0.999...   \n",
       "2  [0.9999418258666992, 0.9999479055404663, 0.999...   \n",
       "3  [0.9999666213989258, 0.9999755620956421, 0.999...   \n",
       "4  [0.9999465942382812, 0.9999498128890991, 0.999...   \n",
       "\n",
       "                         afts_regno_ai_length_scores   camera_type  \\\n",
       "0  [3.2404470773350624e-10, 3.236617363011618e-10...  Стационарная   \n",
       "1  [3.430950662464127e-11, 3.460254999199108e-11,...  Стационарная   \n",
       "2  [1.1617498074656396e-09, 1.1486793738413326e-0...  Стационарная   \n",
       "3  [3.664501813105403e-09, 3.674545556719977e-09,...  Стационарная   \n",
       "4  [5.063955921258412e-09, 5.053997664816734e-09,...  Стационарная   \n",
       "\n",
       "   camera_class           time_check  direction  \n",
       "0  Астра-Трафик  2021-08-01 09:02:59          0  \n",
       "1  Астра-Трафик  2021-08-01 11:24:40          1  \n",
       "2  Стрелка-Плюс  2021-08-01 11:50:28          1  \n",
       "3  Астра-Трафик  2021-08-01 12:53:14          0  \n",
       "4  Стрелка-Плюс  2021-08-01 13:48:23          0  "
      ]
     },
     "execution_count": 12,
     "metadata": {},
     "output_type": "execute_result"
    }
   ],
   "source": [
    "import pandas as pd\n",
    "import numpy as np\n",
    "data = pd.read_csv('REST_ml_app/test_data.csv')\n",
    "data.head(5)"
   ]
  },
  {
   "cell_type": "markdown",
   "id": "8d317a29",
   "metadata": {},
   "source": [
    "Это результаты работы некой стационарной системы видеорегистрации проезжей части\n",
    "\n",
    "Далее идут спекуляции: \n",
    "\n",
    "regno_recognize - скорее всего описывает как внутренний софт камеры определил номер автомобиля\n",
    "\n",
    "afts_regno_ai - показывает как некая модель с нейронкой определяет номер автомобиля\n",
    "\n",
    "recognition_accuracy, afts_regno_ai_score - метрики качества определителя и нейронки\n",
    "\n",
    "afts_regno_ai_char_scores - вероятности предсказанных символов номера нейронкой\n",
    "\n",
    "afts_regno_ai_length_scores\t- не совсем понятно\n",
    "\n",
    "camera_type, camera_class - характеристики камеры\n",
    "\n",
    "direction - направление движения"
   ]
  },
  {
   "cell_type": "markdown",
   "id": "ddb20275",
   "metadata": {},
   "source": [
    "Итак, вероятно имеется следующая структура: Есть камеры видеорегистрации на проезжей части (это точно не охраняемый объект поскольку в данных проблематично увидеть заезжающий и выезжающий автомобиль), некая система, которая стоит за рамками поставленной задачи детектирует автомобили в видеопотоке и проверяет их скорость/соблюдение полосы и тд.\n",
    "В случае если системой детекции было обнаружено несоблюдение пдд (Если бы система фиксировала каждую машину а не условно нарушавшую пдд то данные были бы не так разрежены по временному ряду) данные о машине и изображение передаются дальше и определяется её номер, причем либо номер определяется двумя способами независимо: нейросетью и неким ПО камеры, либо нейросеть занимается улучшением качества определения номеров. После этого номера и прочие данные попадают ко мне в предоставленную модель, которая может например принимать решение правильно определен номер автомобиля или нет."
   ]
  },
  {
   "cell_type": "markdown",
   "id": "25bc9f26",
   "metadata": {},
   "source": [
    "Глабольно мы имеем систему которая в режиме реального времени принимает решения на основе трансляции видео."
   ]
  },
  {
   "cell_type": "markdown",
   "id": "db6532db",
   "metadata": {},
   "source": [
    "Таким образом, в сервис будут постоянно приходить новые данные в виде массива в котором содержится информация с фичами для модели которые нужно сразу обрабатывать"
   ]
  },
  {
   "cell_type": "markdown",
   "id": "3a1bc98f",
   "metadata": {},
   "source": [
    "На этом спекулияции закончены, приступим к делу.\n",
    "\n",
    "Исходя из этих рассуждений нужно сделать масштабируемый сервис, поскольку количество камер и автомобилей в городе потенциально может расти, таким образом структура будет примерно следующей: запросы идут на балансировщик нагрузки, который будет распределять поступающие запросы между одинаковыми микросервисами с ML-моделью, в случае если они не будут справляться с расчетами мы просто дублируем блок с ML-моделью и подключаем к балансировщику, таким образом сами микросервисы не являются точкой отказа, если один из них упадет то расчеты продолжатся"
   ]
  },
  {
   "cell_type": "markdown",
   "id": "2b0c1102",
   "metadata": {},
   "source": [
    "Не думаю что есть необходимость усложнять структуру микросервиса, нам потребуется всего один http запрос.\n",
    "Можно тащить все 10 фич в заголовке запроса get или же отправлять json файл телом запроса put, вопрос будет состоять в том \n",
    "в каком виде нам удобнее отправлять данные на наш сервис.\n",
    "Можно сказать что первый подход выглядит более каноничным, но второй более здравым, поскольку в данных которые мы передаем запросом есть структуры типа списков.\n",
    "Однако, я все же буду пользоваться запросом get"
   ]
  },
  {
   "cell_type": "markdown",
   "id": "9bf262ef",
   "metadata": {},
   "source": [
    "Сервис пишем на flask"
   ]
  },
  {
   "cell_type": "code",
   "execution_count": null,
   "id": "832e5977",
   "metadata": {},
   "outputs": [],
   "source": [
    "# Код для наглядности\n",
    "\n",
    "from flask import Flask, jsonify, abort, make_response, request\n",
    "from ml.pick_regno import pick_regno\n",
    "import logging\n",
    "\n",
    "model_path = 'ml/models/micromodel.cbm'\n",
    "\n",
    "logging.basicConfig(filename='logs/logs.log', level=logging.DEBUG)\n",
    "\n",
    "app = Flask(__name__)\n",
    "\n",
    "\n",
    "def launch_task(regno_recognize,\n",
    "                afts_regno_ai,\n",
    "                recognition_accuracy,\n",
    "                afts_regno_ai_score,\n",
    "                afts_regno_ai_char_scores,\n",
    "                afts_regno_ai_length_scores,\n",
    "                camera_type,\n",
    "                camera_class,\n",
    "                time_check,\n",
    "                direction,\n",
    "                api,\n",
    "                ):\n",
    "\n",
    "    logging.info('making prediction...')\n",
    "    prediction = pick_regno(regno_recognize,\n",
    "                            afts_regno_ai,\n",
    "                            recognition_accuracy,\n",
    "                            afts_regno_ai_score,\n",
    "                            afts_regno_ai_char_scores,\n",
    "                            afts_regno_ai_length_scores,\n",
    "                            camera_type,\n",
    "                            camera_class,\n",
    "                            time_check,\n",
    "                            direction,\n",
    "                            model_name=model_path\n",
    "                            )\n",
    "\n",
    "    if api == 'v1.0':\n",
    "        res_dict = {'result': prediction.tolist()}\n",
    "\n",
    "        logging.info('getting response')\n",
    "        return res_dict\n",
    "    else:\n",
    "        res_dict = {'error': 'API doesnt exist'}\n",
    "\n",
    "        logging.warning(\"api doesn't exist\")\n",
    "        return res_dict\n",
    "\n",
    "\n",
    "@app.errorhandler(404)\n",
    "def not_found(error):\n",
    "    logging.warning('page not found')\n",
    "    return make_response(jsonify({'code': 'PAGE_NOT_FOUND'}), 404)\n",
    "\n",
    "\n",
    "@app.errorhandler(500)\n",
    "def server_error(error):\n",
    "    logging.warning('server error')\n",
    "    return make_response(jsonify({'code': 'INTERNAL_SERVER_ERROR'}), 500)\n",
    "\n",
    "\n",
    "@app.route('/regno/api/v1.0/getpred', methods=['GET'])\n",
    "def get_task():\n",
    "    logging.info('launching task')\n",
    "    result = launch_task(request.args.get('regno_recognize'),\n",
    "                         request.args.get('afts_regno_ai'),\n",
    "                         request.args.get('recognition_accuracy'),\n",
    "                         request.args.get('afts_regno_ai_score'),\n",
    "                         request.args.get('afts_regno_ai_char_scores'),\n",
    "                         request.args.get('afts_regno_ai_length_scores'),\n",
    "                         request.args.get('camera_type'),\n",
    "                         request.args.get('camera_class'),\n",
    "                         request.args.get('time_check'),\n",
    "                         request.args.get('direction'),\n",
    "                         'v1.0')\n",
    "\n",
    "    return make_response(jsonify(result), 200)"
   ]
  },
  {
   "cell_type": "markdown",
   "id": "fed64647",
   "metadata": {},
   "source": [
    "Функция get_task получает фичи из запроса и запускает выполнение функции launch_task, которая уже работает со скриптом запуска модели и предоставленной функцией pick_regno."
   ]
  },
  {
   "cell_type": "markdown",
   "id": "6f315d39",
   "metadata": {},
   "source": [
    "В текущем формате сервис имеет минимальное логирование и может быть запущен на локальной машине со всем зависимостями.\n",
    "Однако, если нагрузка будет слишком большой, то сервис может не справится и возникнут проблемы, для этого будет необходимо масштабировать систему и отправлять запросы на несколько микросервисов, поэтому нужен балансировщик нагрузки."
   ]
  },
  {
   "cell_type": "markdown",
   "id": "cbe5d9e4",
   "metadata": {},
   "source": [
    "Однако, прежде чем работать с балансировщиком засунем микросервис в докер контейнер. "
   ]
  },
  {
   "cell_type": "markdown",
   "id": "b210970f",
   "metadata": {},
   "source": [
    "Содержимое Dockerfile для наглядности:"
   ]
  },
  {
   "cell_type": "code",
   "execution_count": null,
   "id": "36f56d84",
   "metadata": {},
   "outputs": [],
   "source": [
    "FROM python:3.9\n",
    "\n",
    "RUN python -m pip install flask flask-cors gunicorn numpy pandas catboost\n",
    "\n",
    "WORKDIR /ml_service\n",
    "\n",
    "ADD app app\n",
    "ADD logs logs\n",
    "ADD ml ml\n",
    "ADD requirements.txt requirements.txt\n",
    "\n",
    "EXPOSE 5000\n",
    "\n",
    "CMD [ \"gunicorn\", \"--bind\", \"0.0.0.0:5000\", \"app.server:app\" ]"
   ]
  },
  {
   "cell_type": "markdown",
   "id": "6e60a4a3",
   "metadata": {},
   "source": [
    "Далее воспользуемся балансировкой нагрузки nginx, по умолчанию будем пользоваться балансировкой round robin, поскольку предполагаем, что сложность распределяемых запросов одинакова (мы всегда передаем 10 фич в модель) и серверы одинаково производительны"
   ]
  },
  {
   "cell_type": "markdown",
   "id": "c5a054ed",
   "metadata": {},
   "source": [
    "Конфиг для nginx балансера nginx.conf:"
   ]
  },
  {
   "cell_type": "code",
   "execution_count": null,
   "id": "5d97d958",
   "metadata": {},
   "outputs": [],
   "source": [
    "user  nginx;events {\n",
    "    worker_connections   1000;\n",
    "}\n",
    "http {\n",
    "        server {\n",
    "              listen 4000;\n",
    "              location / {\n",
    "                proxy_pass http://regno-microservice:5000;\n",
    "              }\n",
    "        }\n",
    "}"
   ]
  },
  {
   "cell_type": "markdown",
   "id": "59964762",
   "metadata": {},
   "source": [
    "Далее с помощью docker-compose соберем несколько контейнеров с нашими микро-сервисами и балансировщик в одну виртуальную сеть"
   ]
  },
  {
   "cell_type": "markdown",
   "id": "57462ab1",
   "metadata": {},
   "source": [
    "конфиг docker-compose.yaml:"
   ]
  },
  {
   "cell_type": "code",
   "execution_count": null,
   "id": "9620bdde",
   "metadata": {},
   "outputs": [],
   "source": [
    "version: '3.7'\n",
    "\n",
    "services:\n",
    "    regno-microservice:\n",
    "        build:\n",
    "            context: ./regno-microservice\n",
    "        image: ml_service_test\n",
    "        restart: unless-stopped\n",
    "        expose:\n",
    "            - \"5000\"\n",
    "        deploy:\n",
    "            replicas: 3 # Количество реплик микросервиса можно изменить на необходимое\n",
    "\n",
    "\n",
    "    nginx-balancer:\n",
    "        image: nginx\n",
    "        container_name: nginx-balancer\n",
    "        restart: unless-stopped\n",
    "        volumes:\n",
    "            - ./nginx-balancer/nginx.conf:/etc/nginx/nginx.conf:ro\n",
    "        depends_on:\n",
    "            - regno-microservice\n",
    "        ports:\n",
    "            - \"5000:4000\""
   ]
  },
  {
   "cell_type": "markdown",
   "id": "319170b0",
   "metadata": {},
   "source": [
    "Все что необходимо собрано, конфиги прописаны, пора проверить работоспособность"
   ]
  },
  {
   "cell_type": "markdown",
   "id": "9b14028b",
   "metadata": {},
   "source": [
    "Для проверки работоспособности необходим запущенный докер"
   ]
  },
  {
   "cell_type": "code",
   "execution_count": null,
   "id": "f865f360",
   "metadata": {},
   "outputs": [],
   "source": [
    "# Собираем образ нашего микросервиса консольной командой в корневой директории проекта:\n",
    "    \n",
    "docker build -t ml_service_test ./regno-microservice\n",
    "\n",
    "# Для проверки работоспособности одного микросервиса без балансировщика можно запустить один контейнер консольной командой: \n",
    "\n",
    "docker run -d -p 5000:5000 ml_service_test\n",
    "\n",
    "# Для проверки работоспособности сервиса полностью в корневой папке проекта запускаем консольную команду:\n",
    "\n",
    "docker-compose up --build"
   ]
  },
  {
   "cell_type": "markdown",
   "id": "c5aa43d0",
   "metadata": {},
   "source": [
    "После запуска контейнеров можно отправлять запросы на http://localhost:5000"
   ]
  },
  {
   "cell_type": "markdown",
   "id": "3119ec82",
   "metadata": {},
   "source": [
    "Поскольку микросервис получает запрос в заголовке, то структура запроса выглядит следующим образом:"
   ]
  },
  {
   "cell_type": "code",
   "execution_count": 51,
   "id": "a1ab7175",
   "metadata": {},
   "outputs": [
    {
     "data": {
      "text/plain": [
       "'http://localhost:5000/regno/api/v1.0/getpred?regno_recognize=О041ВВ797&afts_regno_ai=О041ВВ777&recognition_accuracy=2.25&afts_regno_ai_score=0.9240373969078064&afts_regno_ai_char_scores=[0.9724164605140686, 0.999618649482727, 0.9999938011169434, 0.9997884631156921, 0.9998886585235596, 0.9996151924133301, 0.9996050000190735, 0.9517149925231934, 0.9999496936798096]&afts_regno_ai_length_scores=[1.2026991624836114e-09, 1.2061864840262615e-09, 1.1980743064299304e-09, 1.2100438429030191e-09, 1.20562060335061e-09, 1.2088351430961097e-09, 1.2120812131755088e-09, 1.0469466182883025e-08, 1.1695751709339675e-06, 0.9999988079071045, 1.2070656696394622e-09]&camera_type=Стационарная&camera_class=Астра-Трафик&time_check=2021-08-07 08:10:42&direction=1'"
      ]
     },
     "execution_count": 51,
     "metadata": {},
     "output_type": "execute_result"
    }
   ],
   "source": [
    "f'http://localhost:{port}/regno/api/v1.0/getpred?\\\n",
    "regno_recognize={regno_recognize}\\\n",
    "&afts_regno_ai={afts_regno_ai}\\\n",
    "&recognition_accuracy={recognition_accuracy}\\\n",
    "&afts_regno_ai_score={afts_regno_ai_score}\\\n",
    "&afts_regno_ai_char_scores={afts_regno_ai_char_scores}\\\n",
    "&afts_regno_ai_length_scores={afts_regno_ai_length_scores}\\\n",
    "&camera_type={camera_type}\\\n",
    "&camera_class={camera_class}\\\n",
    "&time_check={time_check}\\\n",
    "&direction={direction}'"
   ]
  },
  {
   "cell_type": "markdown",
   "id": "1a25a04e",
   "metadata": {},
   "source": [
    "Зададим параметры для запроса"
   ]
  },
  {
   "cell_type": "code",
   "execution_count": 52,
   "id": "52dd8ac9",
   "metadata": {},
   "outputs": [],
   "source": [
    "features = list(data.iloc[0])\n",
    "\n",
    "regno_recognize, afts_regno_ai, recognition_accuracy, afts_regno_ai_score, afts_regno_ai_char_scores, afts_regno_ai_length_scores, camera_type, camera_class, time_check, direction = features\n",
    "\n",
    "recognition_accuracy = str(recognition_accuracy)\n",
    "afts_regno_ai_score = str(afts_regno_ai_score)\n",
    "direction = str(direction)"
   ]
  },
  {
   "cell_type": "code",
   "execution_count": 53,
   "id": "21e4bf29",
   "metadata": {},
   "outputs": [],
   "source": [
    "import requests"
   ]
  },
  {
   "cell_type": "code",
   "execution_count": 54,
   "id": "394421d7",
   "metadata": {},
   "outputs": [
    {
     "name": "stdout",
     "output_type": "stream",
     "text": [
      "Ответ на запрос: b'{\"result\":[0.9833415173975795,0.01665848260242052]}\\n'\n"
     ]
    }
   ],
   "source": [
    "port = 5000\n",
    "\n",
    "r = requests.get(f'http://localhost:{port}/regno/api/v1.0/getpred?\\\n",
    "regno_recognize={regno_recognize}\\\n",
    "&afts_regno_ai={afts_regno_ai}\\\n",
    "&recognition_accuracy={recognition_accuracy}\\\n",
    "&afts_regno_ai_score={afts_regno_ai_score}\\\n",
    "&afts_regno_ai_char_scores={afts_regno_ai_char_scores}\\\n",
    "&afts_regno_ai_length_scores={afts_regno_ai_length_scores}\\\n",
    "&camera_type={camera_type}\\\n",
    "&camera_class={camera_class}\\\n",
    "&time_check={time_check}\\\n",
    "&direction={direction}')\n",
    "print('Ответ на запрос:', r.content)"
   ]
  },
  {
   "cell_type": "markdown",
   "id": "6dbad094",
   "metadata": {},
   "source": [
    "Сервис отвечает на запрос"
   ]
  },
  {
   "cell_type": "markdown",
   "id": "558a2dd4",
   "metadata": {},
   "source": [
    "Далее эту структуру запроса можно использовать для проверки нагрузки на сервис"
   ]
  },
  {
   "cell_type": "code",
   "execution_count": 57,
   "id": "2ec6f4b6",
   "metadata": {},
   "outputs": [
    {
     "name": "stdout",
     "output_type": "stream",
     "text": [
      "--- 2.110208034515381 seconds ---\n"
     ]
    }
   ],
   "source": [
    "response_lst = []\n",
    "\n",
    "start_time = time.time()\n",
    "\n",
    "for i in range(100):\n",
    "    features = list(data.iloc[i])\n",
    "    regno_recognize, afts_regno_ai, recognition_accuracy, afts_regno_ai_score, afts_regno_ai_char_scores, afts_regno_ai_length_scores, camera_type, camera_class, time_check,  direction = features\n",
    "    \n",
    "    recognition_accuracy = str(recognition_accuracy)\n",
    "    afts_regno_ai_score\t = str(afts_regno_ai_score)\n",
    "    direction = str(direction)\n",
    "    \n",
    "    r = requests.get(f'http://localhost:5000/regno/api/v1.0/getpred?\\\n",
    "regno_recognize={regno_recognize}\\\n",
    "&afts_regno_ai={afts_regno_ai}\\\n",
    "&recognition_accuracy={recognition_accuracy}\\\n",
    "&afts_regno_ai_score={afts_regno_ai_score}\\\n",
    "&afts_regno_ai_char_scores={afts_regno_ai_char_scores}\\\n",
    "&afts_regno_ai_length_scores={afts_regno_ai_length_scores}\\\n",
    "&camera_type={camera_type}\\\n",
    "&camera_class={camera_class}\\\n",
    "&time_check={time_check}\\\n",
    "&direction={direction}')\n",
    "    response_lst.append(r.content)\n",
    "    \n",
    "print(\"--- %s seconds ---\" % (time.time() - start_time))"
   ]
  },
  {
   "cell_type": "code",
   "execution_count": 58,
   "id": "25e41987",
   "metadata": {},
   "outputs": [
    {
     "data": {
      "text/plain": [
       "[b'{\"result\":[0.9833415173975795,0.01665848260242052]}\\n',\n",
       " b'{\"result\":[0.9958559500374642,0.004144049962535818]}\\n',\n",
       " b'{\"result\":[0.20706936700859901,0.792930632991401]}\\n',\n",
       " b'{\"result\":[0.9547414527375759,0.04525854726242409]}\\n',\n",
       " b'{\"result\":[0.29239232580939667,0.7076076741906033]}\\n',\n",
       " b'{\"result\":[0.43860728748476674,0.5613927125152333]}\\n',\n",
       " b'{\"result\":[0.8861429184180072,0.11385708158199276]}\\n',\n",
       " b'{\"result\":[0.16968317013792045,0.8303168298620796]}\\n',\n",
       " b'{\"result\":[0.006357257940204031,0.993642742059796]}\\n',\n",
       " b'{\"result\":[0.09151942110388689,0.9084805788961131]}\\n',\n",
       " b'{\"result\":[0.0033234264663093427,0.9966765735336907]}\\n',\n",
       " b'{\"result\":[0.01324052745757831,0.9867594725424217]}\\n',\n",
       " b'{\"result\":[0.29978539896753675,0.7002146010324632]}\\n',\n",
       " b'{\"result\":[0.6369831257645788,0.3630168742354212]}\\n',\n",
       " b'{\"result\":[0.9774741131728542,0.0225258868271458]}\\n',\n",
       " b'{\"result\":[0.0239718612762585,0.9760281387237415]}\\n',\n",
       " b'{\"result\":[0.9930100837540468,0.006989916245953274]}\\n',\n",
       " b'{\"result\":[0.9705968827713832,0.029403117228616774]}\\n',\n",
       " b'{\"result\":[0.9893195332791774,0.010680466720822538]}\\n',\n",
       " b'{\"result\":[0.9873227138160391,0.01267728618396089]}\\n',\n",
       " b'{\"result\":[0.037841993424609255,0.9621580065753907]}\\n',\n",
       " b'{\"result\":[0.9832917929845518,0.016708207015448152]}\\n',\n",
       " b'{\"result\":[0.0704357679294847,0.9295642320705153]}\\n',\n",
       " b'{\"result\":[0.44824898835668237,0.5517510116433176]}\\n',\n",
       " b'{\"result\":[0.008960626808182881,0.9910393731918171]}\\n',\n",
       " b'{\"result\":[0.06795702983210894,0.9320429701678911]}\\n',\n",
       " b'{\"result\":[0.34774403859803615,0.6522559614019638]}\\n',\n",
       " b'{\"result\":[0.9957563145857032,0.004243685414296783]}\\n',\n",
       " b'{\"result\":[0.33567776448148146,0.6643222355185185]}\\n',\n",
       " b'{\"result\":[0.9973078289906151,0.0026921710093849084]}\\n',\n",
       " b'{\"result\":[0.39902165473255813,0.6009783452674419]}\\n',\n",
       " b'{\"result\":[0.23388163458509836,0.7661183654149016]}\\n',\n",
       " b'{\"result\":[0.9877014591037241,0.012298540896275896]}\\n',\n",
       " b'{\"result\":[0.3171217913438248,0.6828782086561752]}\\n',\n",
       " b'{\"result\":[0.965731420795692,0.03426857920430801]}\\n',\n",
       " b'{\"result\":[0.9695272364928238,0.030472763507176193]}\\n',\n",
       " b'{\"result\":[0.9945680661631735,0.005431933836826543]}\\n',\n",
       " b'{\"result\":[0.9916955926104948,0.008304407389505213]}\\n',\n",
       " b'{\"result\":[0.3521685539887358,0.6478314460112642]}\\n',\n",
       " b'{\"result\":[0.48888691088224545,0.5111130891177545]}\\n',\n",
       " b'{\"result\":[0.9679084630441824,0.032091536955817596]}\\n',\n",
       " b'{\"result\":[0.9830554087512752,0.01694459124872483]}\\n',\n",
       " b'{\"result\":[0.04783748000454924,0.9521625199954508]}\\n',\n",
       " b'{\"result\":[0.8745610168762317,0.12543898312376828]}\\n',\n",
       " b'{\"result\":[0.19612401096009013,0.8038759890399099]}\\n',\n",
       " b'{\"result\":[0.9944839259236733,0.0055160740763267385]}\\n',\n",
       " b'{\"result\":[0.005909767354592921,0.9940902326454071]}\\n',\n",
       " b'{\"result\":[0.9079000643370494,0.09209993566295066]}\\n',\n",
       " b'{\"result\":[0.9927742806015786,0.00722571939842147]}\\n',\n",
       " b'{\"result\":[0.9780873797623244,0.021912620237675637]}\\n',\n",
       " b'{\"result\":[0.08870890295256417,0.9112910970474358]}\\n',\n",
       " b'{\"result\":[0.14403241941284284,0.8559675805871572]}\\n',\n",
       " b'{\"result\":[0.26903043476788147,0.7309695652321185]}\\n',\n",
       " b'{\"result\":[0.0645358817999937,0.9354641182000063]}\\n',\n",
       " b'{\"result\":[0.08137682781891797,0.918623172181082]}\\n',\n",
       " b'{\"result\":[0.40832805119365445,0.5916719488063455]}\\n',\n",
       " b'{\"result\":[0.8678895690348982,0.13211043096510175]}\\n',\n",
       " b'{\"result\":[0.03195904759514534,0.9680409524048547]}\\n',\n",
       " b'{\"result\":[0.02433398494587402,0.975666015054126]}\\n',\n",
       " b'{\"result\":[0.9937720939502837,0.006227906049716364]}\\n',\n",
       " b'{\"result\":[0.31471800426394336,0.6852819957360566]}\\n',\n",
       " b'{\"result\":[0.21427261121714214,0.7857273887828579]}\\n',\n",
       " b'{\"result\":[0.4635948355058026,0.5364051644941974]}\\n',\n",
       " b'{\"result\":[0.13143119977564077,0.8685688002243592]}\\n',\n",
       " b'{\"result\":[0.1996936763629179,0.8003063236370821]}\\n',\n",
       " b'{\"result\":[0.968602174745849,0.03139782525415102]}\\n',\n",
       " b'{\"result\":[0.9965305324728679,0.0034694675271320754]}\\n',\n",
       " b'{\"result\":[0.06444207781606492,0.9355579221839351]}\\n',\n",
       " b'{\"result\":[0.2755430335441168,0.7244569664558832]}\\n',\n",
       " b'{\"result\":[0.9982574053506625,0.001742594649337472]}\\n',\n",
       " b'{\"result\":[0.9784473584630187,0.021552641536981377]}\\n',\n",
       " b'{\"result\":[0.976566176662884,0.023433823337115963]}\\n',\n",
       " b'{\"result\":[0.014116847373389918,0.9858831526266101]}\\n',\n",
       " b'{\"result\":[0.9609438238881864,0.03905617611181358]}\\n',\n",
       " b'{\"result\":[0.9925722291315608,0.007427770868439158]}\\n',\n",
       " b'{\"result\":[0.727796826150275,0.2722031738497251]}\\n',\n",
       " b'{\"result\":[0.6262922999171852,0.3737077000828149]}\\n',\n",
       " b'{\"result\":[0.017572738961258105,0.9824272610387419]}\\n',\n",
       " b'{\"result\":[0.22829203600665027,0.7717079639933497]}\\n',\n",
       " b'{\"result\":[0.10647609750184317,0.8935239024981568]}\\n',\n",
       " b'{\"result\":[0.568573241575923,0.4314267584240769]}\\n',\n",
       " b'{\"result\":[0.9983739833931182,0.0016260166068817817]}\\n',\n",
       " b'{\"result\":[0.4881340193032695,0.5118659806967305]}\\n',\n",
       " b'{\"result\":[0.48994968632557745,0.5100503136744226]}\\n',\n",
       " b'{\"result\":[0.04459937422131721,0.9554006257786828]}\\n',\n",
       " b'{\"result\":[0.060768870006955966,0.939231129993044]}\\n',\n",
       " b'{\"result\":[0.8858465762590532,0.11415342374094688]}\\n',\n",
       " b'{\"result\":[0.5149141126224828,0.48508588737751723]}\\n',\n",
       " b'{\"result\":[0.23574663848512079,0.7642533615148792]}\\n',\n",
       " b'{\"result\":[0.18756089506541673,0.8124391049345833]}\\n',\n",
       " b'{\"result\":[0.47415969824332616,0.5258403017566738]}\\n',\n",
       " b'{\"result\":[0.9803462969926765,0.01965370300732353]}\\n',\n",
       " b'{\"result\":[0.06300804404186522,0.9369919559581348]}\\n',\n",
       " b'{\"result\":[0.9865655306534206,0.013434469346579457]}\\n',\n",
       " b'{\"result\":[0.9926190931303593,0.007380906869640638]}\\n',\n",
       " b'{\"result\":[0.07877255829545404,0.921227441704546]}\\n',\n",
       " b'{\"result\":[0.4339206404721835,0.5660793595278165]}\\n',\n",
       " b'{\"result\":[0.4689992229074613,0.5310007770925387]}\\n',\n",
       " b'{\"result\":[0.11985331146652456,0.8801466885334754]}\\n',\n",
       " b'{\"result\":[0.9546576119624413,0.0453423880375588]}\\n']"
      ]
     },
     "execution_count": 58,
     "metadata": {},
     "output_type": "execute_result"
    }
   ],
   "source": [
    "response_lst"
   ]
  },
  {
   "cell_type": "markdown",
   "id": "74349e88",
   "metadata": {},
   "source": [
    "По всем 100 запросам получили ответ за 2 секунды на персональном компьютере с Intel(R) Core(TM) i3-7100 CPU @ 3.90GHz. При выполнении в рамках серверной среды, мы можешь масштабировать наши микросервисы и использовать нормальное серверное железо для обработки запросов"
   ]
  },
  {
   "cell_type": "code",
   "execution_count": null,
   "id": "7bedce32",
   "metadata": {},
   "outputs": [],
   "source": []
  }
 ],
 "metadata": {
  "kernelspec": {
   "display_name": "Python 3 (ipykernel)",
   "language": "python",
   "name": "python3"
  },
  "language_info": {
   "codemirror_mode": {
    "name": "ipython",
    "version": 3
   },
   "file_extension": ".py",
   "mimetype": "text/x-python",
   "name": "python",
   "nbconvert_exporter": "python",
   "pygments_lexer": "ipython3",
   "version": "3.8.16"
  }
 },
 "nbformat": 4,
 "nbformat_minor": 5
}
